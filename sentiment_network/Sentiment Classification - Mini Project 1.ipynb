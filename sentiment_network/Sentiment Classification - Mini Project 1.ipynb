{
 "cells": [
  {
   "cell_type": "markdown",
   "metadata": {},
   "source": [
    "# Sentiment Classification & How To \"Frame Problems\" for a Neural Network\n",
    "\n",
    "by Andrew Trask\n",
    "\n",
    "- **Twitter**: @iamtrask\n",
    "- **Blog**: http://iamtrask.github.io"
   ]
  },
  {
   "cell_type": "markdown",
   "metadata": {},
   "source": [
    "### What You Should Already Know\n",
    "\n",
    "- neural networks, forward and back-propagation\n",
    "- stochastic gradient descent\n",
    "- mean squared error\n",
    "- and train/test splits\n",
    "\n",
    "### Where to Get Help if You Need it\n",
    "- Re-watch previous Udacity Lectures\n",
    "- Leverage the recommended Course Reading Material - [Grokking Deep Learning](https://www.manning.com/books/grokking-deep-learning) (40% Off: **traskud17**)\n",
    "- Shoot me a tweet @iamtrask\n",
    "\n",
    "\n",
    "### Tutorial Outline:\n",
    "\n",
    "- Intro: The Importance of \"Framing a Problem\"\n",
    "\n",
    "\n",
    "- Curate a Dataset\n",
    "- Developing a \"Predictive Theory\"\n",
    "- **PROJECT 1**: Quick Theory Validation\n",
    "\n",
    "\n",
    "- Transforming Text to Numbers\n",
    "- **PROJECT 2**: Creating the Input/Output Data\n",
    "\n",
    "\n",
    "- Putting it all together in a Neural Network\n",
    "- **PROJECT 3**: Building our Neural Network\n",
    "\n",
    "\n",
    "- Understanding Neural Noise\n",
    "- **PROJECT 4**: Making Learning Faster by Reducing Noise\n",
    "\n",
    "\n",
    "- Analyzing Inefficiencies in our Network\n",
    "- **PROJECT 5**: Making our Network Train and Run Faster\n",
    "\n",
    "\n",
    "- Further Noise Reduction\n",
    "- **PROJECT 6**: Reducing Noise by Strategically Reducing the Vocabulary\n",
    "\n",
    "\n",
    "- Analysis: What's going on in the weights?"
   ]
  },
  {
   "cell_type": "markdown",
   "metadata": {
    "nbpresent": {
     "id": "56bb3cba-260c-4ebe-9ed6-b995b4c72aa3"
    }
   },
   "source": [
    "# Lesson: Curate a Dataset"
   ]
  },
  {
   "cell_type": "code",
   "execution_count": 18,
   "metadata": {
    "nbpresent": {
     "id": "eba2b193-0419-431e-8db9-60f34dd3fe83"
    }
   },
   "outputs": [],
   "source": [
    "def pretty_print_review_and_label(i):\n",
    "    print(labels[i] + \"\\t:\\t\" + reviews[i][:80] + \"...\")\n",
    "\n",
    "g = open('reviews.txt','r') # What we know!\n",
    "reviews = list(map(lambda x:x[:-1],g.readlines()))\n",
    "g.close()\n",
    "\n",
    "g = open('labels.txt','r') # What we WANT to know!\n",
    "labels = list(map(lambda x:x[:-1].upper(),g.readlines()))\n",
    "g.close()"
   ]
  },
  {
   "cell_type": "code",
   "execution_count": 19,
   "metadata": {},
   "outputs": [
    {
     "data": {
      "text/plain": [
       "25000"
      ]
     },
     "execution_count": 19,
     "metadata": {},
     "output_type": "execute_result"
    }
   ],
   "source": [
    "len(reviews)"
   ]
  },
  {
   "cell_type": "code",
   "execution_count": 20,
   "metadata": {
    "nbpresent": {
     "id": "bb95574b-21a0-4213-ae50-34363cf4f87f"
    }
   },
   "outputs": [
    {
     "data": {
      "text/plain": [
       "'bromwell high is a cartoon comedy . it ran at the same time as some other programs about school life  such as  teachers  . my   years in the teaching profession lead me to believe that bromwell high  s satire is much closer to reality than is  teachers  . the scramble to survive financially  the insightful students who can see right through their pathetic teachers  pomp  the pettiness of the whole situation  all remind me of the schools i knew and their students . when i saw the episode in which a student repeatedly tried to burn down the school  i immediately recalled . . . . . . . . . at . . . . . . . . . . high . a classic line inspector i  m here to sack one of your teachers . student welcome to bromwell high . i expect that many adults of my age think that bromwell high is far fetched . what a pity that it isn  t   '"
      ]
     },
     "execution_count": 20,
     "metadata": {},
     "output_type": "execute_result"
    }
   ],
   "source": [
    "reviews[0]"
   ]
  },
  {
   "cell_type": "code",
   "execution_count": 21,
   "metadata": {
    "nbpresent": {
     "id": "e0408810-c424-4ed4-afb9-1735e9ddbd0a"
    }
   },
   "outputs": [
    {
     "data": {
      "text/plain": [
       "'POSITIVE'"
      ]
     },
     "execution_count": 21,
     "metadata": {},
     "output_type": "execute_result"
    }
   ],
   "source": [
    "labels[0]"
   ]
  },
  {
   "cell_type": "markdown",
   "metadata": {},
   "source": [
    "# Lesson: Develop a Predictive Theory"
   ]
  },
  {
   "cell_type": "code",
   "execution_count": 22,
   "metadata": {
    "nbpresent": {
     "id": "e67a709f-234f-4493-bae6-4fb192141ee0"
    }
   },
   "outputs": [
    {
     "name": "stdout",
     "output_type": "stream",
     "text": [
      "labels.txt \t : \t reviews.txt\n",
      "\n",
      "NEGATIVE\t:\tthis movie is terrible but it has some good effects .  ...\n",
      "POSITIVE\t:\tadrian pasdar is excellent is this film . he makes a fascinating woman .  ...\n",
      "NEGATIVE\t:\tcomment this movie is impossible . is terrible  very improbable  bad interpretat...\n",
      "POSITIVE\t:\texcellent episode movie ala pulp fiction .  days   suicides . it doesnt get more...\n",
      "NEGATIVE\t:\tif you haven  t seen this  it  s terrible . it is pure trash . i saw this about ...\n",
      "POSITIVE\t:\tthis schiffer guy is a real genius  the movie is of excellent quality and both e...\n"
     ]
    }
   ],
   "source": [
    "print(\"labels.txt \\t : \\t reviews.txt\\n\")\n",
    "pretty_print_review_and_label(2137)\n",
    "pretty_print_review_and_label(12816)\n",
    "pretty_print_review_and_label(6267)\n",
    "pretty_print_review_and_label(21934)\n",
    "pretty_print_review_and_label(5297)\n",
    "pretty_print_review_and_label(4998)"
   ]
  },
  {
   "cell_type": "markdown",
   "metadata": {},
   "source": [
    "# Project 1: Quick Theory Validation"
   ]
  },
  {
   "cell_type": "code",
   "execution_count": 136,
   "metadata": {},
   "outputs": [],
   "source": [
    "import re\n",
    "import numpy as np\n",
    "from collections import Counter\n",
    "\n",
    "def histogramCount(index_array):\n",
    "    \n",
    "    selected_label = labels[index_array[0]]\n",
    "    \n",
    "    for index in index_array:\n",
    "        counts = Counter(re.sub(\"[^\\w]\", \" \",  reviews[index][:80] + \"...\").split())\n",
    "\n",
    "    words, values = zip(*counts.items())\n",
    "    \n",
    "    return dict(zip(words, values))"
   ]
  },
  {
   "cell_type": "code",
   "execution_count": 137,
   "metadata": {},
   "outputs": [],
   "source": [
    "negativeCounts = histogramCount([2137, 6267, 5297])\n",
    "positiveCounts = histogramCount([12816, 21934, 4998])"
   ]
  },
  {
   "cell_type": "code",
   "execution_count": 146,
   "metadata": {},
   "outputs": [],
   "source": [
    "import pandas as pd\n",
    "\n",
    "def defDataFrame(sentiment, myData):\n",
    "    df = pd.DataFrame(myData, index=myData.values(), columns=myData.keys())\n",
    "    df['Key'] = sentiment\n",
    "    \n",
    "    return df"
   ]
  },
  {
   "cell_type": "code",
   "execution_count": 167,
   "metadata": {},
   "outputs": [
    {
     "name": "stdout",
     "output_type": "stream",
     "text": [
      "                 Key    a  about  and  both    e  excellent  genius  guy  \\\n",
      "NEGATIVE 1  NEGATIVE  NaN    1.0  NaN   NaN  NaN        NaN     NaN  NaN   \n",
      "         1  NEGATIVE  NaN    1.0  NaN   NaN  NaN        NaN     NaN  NaN   \n",
      "         1  NEGATIVE  NaN    1.0  NaN   NaN  NaN        NaN     NaN  NaN   \n",
      "         1  NEGATIVE  NaN    1.0  NaN   NaN  NaN        NaN     NaN  NaN   \n",
      "         1  NEGATIVE  NaN    1.0  NaN   NaN  NaN        NaN     NaN  NaN   \n",
      "         2  NEGATIVE  NaN    1.0  NaN   NaN  NaN        NaN     NaN  NaN   \n",
      "         2  NEGATIVE  NaN    1.0  NaN   NaN  NaN        NaN     NaN  NaN   \n",
      "         1  NEGATIVE  NaN    1.0  NaN   NaN  NaN        NaN     NaN  NaN   \n",
      "         1  NEGATIVE  NaN    1.0  NaN   NaN  NaN        NaN     NaN  NaN   \n",
      "         1  NEGATIVE  NaN    1.0  NaN   NaN  NaN        NaN     NaN  NaN   \n",
      "         1  NEGATIVE  NaN    1.0  NaN   NaN  NaN        NaN     NaN  NaN   \n",
      "         1  NEGATIVE  NaN    1.0  NaN   NaN  NaN        NaN     NaN  NaN   \n",
      "         1  NEGATIVE  NaN    1.0  NaN   NaN  NaN        NaN     NaN  NaN   \n",
      "         1  NEGATIVE  NaN    1.0  NaN   NaN  NaN        NaN     NaN  NaN   \n",
      "         1  NEGATIVE  NaN    1.0  NaN   NaN  NaN        NaN     NaN  NaN   \n",
      "POSITIVE 1  POSITIVE  1.0    NaN  1.0   1.0  1.0        1.0     1.0  1.0   \n",
      "         1  POSITIVE  1.0    NaN  1.0   1.0  1.0        1.0     1.0  1.0   \n",
      "         1  POSITIVE  1.0    NaN  1.0   1.0  1.0        1.0     1.0  1.0   \n",
      "         2  POSITIVE  1.0    NaN  1.0   1.0  1.0        1.0     1.0  1.0   \n",
      "         1  POSITIVE  1.0    NaN  1.0   1.0  1.0        1.0     1.0  1.0   \n",
      "         1  POSITIVE  1.0    NaN  1.0   1.0  1.0        1.0     1.0  1.0   \n",
      "         1  POSITIVE  1.0    NaN  1.0   1.0  1.0        1.0     1.0  1.0   \n",
      "         1  POSITIVE  1.0    NaN  1.0   1.0  1.0        1.0     1.0  1.0   \n",
      "         1  POSITIVE  1.0    NaN  1.0   1.0  1.0        1.0     1.0  1.0   \n",
      "         1  POSITIVE  1.0    NaN  1.0   1.0  1.0        1.0     1.0  1.0   \n",
      "         1  POSITIVE  1.0    NaN  1.0   1.0  1.0        1.0     1.0  1.0   \n",
      "         1  POSITIVE  1.0    NaN  1.0   1.0  1.0        1.0     1.0  1.0   \n",
      "         1  POSITIVE  1.0    NaN  1.0   1.0  1.0        1.0     1.0  1.0   \n",
      "         1  POSITIVE  1.0    NaN  1.0   1.0  1.0        1.0     1.0  1.0   \n",
      "         1  POSITIVE  1.0    NaN  1.0   1.0  1.0        1.0     1.0  1.0   \n",
      "\n",
      "            haven ...     s  saw  schiffer  seen    t  terrible  the  this  \\\n",
      "NEGATIVE 1    1.0 ...   1.0  1.0       NaN   1.0  1.0       1.0  NaN     2   \n",
      "         1    1.0 ...   1.0  1.0       NaN   1.0  1.0       1.0  NaN     2   \n",
      "         1    1.0 ...   1.0  1.0       NaN   1.0  1.0       1.0  NaN     2   \n",
      "         1    1.0 ...   1.0  1.0       NaN   1.0  1.0       1.0  NaN     2   \n",
      "         1    1.0 ...   1.0  1.0       NaN   1.0  1.0       1.0  NaN     2   \n",
      "         2    1.0 ...   1.0  1.0       NaN   1.0  1.0       1.0  NaN     2   \n",
      "         2    1.0 ...   1.0  1.0       NaN   1.0  1.0       1.0  NaN     2   \n",
      "         1    1.0 ...   1.0  1.0       NaN   1.0  1.0       1.0  NaN     2   \n",
      "         1    1.0 ...   1.0  1.0       NaN   1.0  1.0       1.0  NaN     2   \n",
      "         1    1.0 ...   1.0  1.0       NaN   1.0  1.0       1.0  NaN     2   \n",
      "         1    1.0 ...   1.0  1.0       NaN   1.0  1.0       1.0  NaN     2   \n",
      "         1    1.0 ...   1.0  1.0       NaN   1.0  1.0       1.0  NaN     2   \n",
      "         1    1.0 ...   1.0  1.0       NaN   1.0  1.0       1.0  NaN     2   \n",
      "         1    1.0 ...   1.0  1.0       NaN   1.0  1.0       1.0  NaN     2   \n",
      "         1    1.0 ...   1.0  1.0       NaN   1.0  1.0       1.0  NaN     2   \n",
      "POSITIVE 1    NaN ...   NaN  NaN       1.0   NaN  NaN       NaN  1.0     1   \n",
      "         1    NaN ...   NaN  NaN       1.0   NaN  NaN       NaN  1.0     1   \n",
      "         1    NaN ...   NaN  NaN       1.0   NaN  NaN       NaN  1.0     1   \n",
      "         2    NaN ...   NaN  NaN       1.0   NaN  NaN       NaN  1.0     1   \n",
      "         1    NaN ...   NaN  NaN       1.0   NaN  NaN       NaN  1.0     1   \n",
      "         1    NaN ...   NaN  NaN       1.0   NaN  NaN       NaN  1.0     1   \n",
      "         1    NaN ...   NaN  NaN       1.0   NaN  NaN       NaN  1.0     1   \n",
      "         1    NaN ...   NaN  NaN       1.0   NaN  NaN       NaN  1.0     1   \n",
      "         1    NaN ...   NaN  NaN       1.0   NaN  NaN       NaN  1.0     1   \n",
      "         1    NaN ...   NaN  NaN       1.0   NaN  NaN       NaN  1.0     1   \n",
      "         1    NaN ...   NaN  NaN       1.0   NaN  NaN       NaN  1.0     1   \n",
      "         1    NaN ...   NaN  NaN       1.0   NaN  NaN       NaN  1.0     1   \n",
      "         1    NaN ...   NaN  NaN       1.0   NaN  NaN       NaN  1.0     1   \n",
      "         1    NaN ...   NaN  NaN       1.0   NaN  NaN       NaN  1.0     1   \n",
      "         1    NaN ...   NaN  NaN       1.0   NaN  NaN       NaN  1.0     1   \n",
      "\n",
      "            trash  you  \n",
      "NEGATIVE 1    1.0  1.0  \n",
      "         1    1.0  1.0  \n",
      "         1    1.0  1.0  \n",
      "         1    1.0  1.0  \n",
      "         1    1.0  1.0  \n",
      "         2    1.0  1.0  \n",
      "         2    1.0  1.0  \n",
      "         1    1.0  1.0  \n",
      "         1    1.0  1.0  \n",
      "         1    1.0  1.0  \n",
      "         1    1.0  1.0  \n",
      "         1    1.0  1.0  \n",
      "         1    1.0  1.0  \n",
      "         1    1.0  1.0  \n",
      "         1    1.0  1.0  \n",
      "POSITIVE 1    NaN  NaN  \n",
      "         1    NaN  NaN  \n",
      "         1    NaN  NaN  \n",
      "         2    NaN  NaN  \n",
      "         1    NaN  NaN  \n",
      "         1    NaN  NaN  \n",
      "         1    NaN  NaN  \n",
      "         1    NaN  NaN  \n",
      "         1    NaN  NaN  \n",
      "         1    NaN  NaN  \n",
      "         1    NaN  NaN  \n",
      "         1    NaN  NaN  \n",
      "         1    NaN  NaN  \n",
      "         1    NaN  NaN  \n",
      "         1    NaN  NaN  \n",
      "\n",
      "[30 rows x 29 columns]\n"
     ]
    },
    {
     "name": "stderr",
     "output_type": "stream",
     "text": [
      "/home/victor-hotmart/.conda/envs/sentiment-analysis/lib/python3.6/site-packages/ipykernel_launcher.py:11: RuntimeWarning: Tried to set a label via parameter 'x' in func 'hist' but couldn't find such an argument. \n",
      "(This is a programming error, please report to the matplotlib list!)\n",
      "  # This is added back by InteractiveShellApp.init_path()\n"
     ]
    },
    {
     "ename": "TypeError",
     "evalue": "hist() missing 1 required positional argument: 'x'",
     "output_type": "error",
     "traceback": [
      "\u001b[0;31m---------------------------------------------------------------------------\u001b[0m",
      "\u001b[0;31mTypeError\u001b[0m                                 Traceback (most recent call last)",
      "\u001b[0;32m<ipython-input-167-5670cdfbc8a8>\u001b[0m in \u001b[0;36m<module>\u001b[0;34m()\u001b[0m\n\u001b[1;32m      9\u001b[0m \u001b[0mDFGroup\u001b[0m \u001b[0;34m=\u001b[0m \u001b[0mDF\u001b[0m\u001b[0;34m.\u001b[0m\u001b[0mgroupby\u001b[0m\u001b[0;34m(\u001b[0m\u001b[0;34m'Key'\u001b[0m\u001b[0;34m)\u001b[0m\u001b[0;34m\u001b[0m\u001b[0m\n\u001b[1;32m     10\u001b[0m \u001b[0;34m\u001b[0m\u001b[0m\n\u001b[0;32m---> 11\u001b[0;31m \u001b[0mDFGPlot\u001b[0m \u001b[0;34m=\u001b[0m \u001b[0mDFGroup\u001b[0m\u001b[0;34m.\u001b[0m\u001b[0msum\u001b[0m\u001b[0;34m(\u001b[0m\u001b[0;34m)\u001b[0m\u001b[0;34m.\u001b[0m\u001b[0munstack\u001b[0m\u001b[0;34m(\u001b[0m\u001b[0;34m'Key'\u001b[0m\u001b[0;34m)\u001b[0m\u001b[0;34m.\u001b[0m\u001b[0mplot\u001b[0m\u001b[0;34m(\u001b[0m\u001b[0mkind\u001b[0m\u001b[0;34m=\u001b[0m\u001b[0;34m'bar'\u001b[0m\u001b[0;34m,\u001b[0m \u001b[0mfigsize\u001b[0m\u001b[0;34m=\u001b[0m\u001b[0;34m(\u001b[0m\u001b[0;36m18\u001b[0m\u001b[0;34m,\u001b[0m \u001b[0;36m16\u001b[0m\u001b[0;34m)\u001b[0m\u001b[0;34m)\u001b[0m\u001b[0;34m.\u001b[0m\u001b[0mhist\u001b[0m\u001b[0;34m(\u001b[0m\u001b[0mstacked\u001b[0m\u001b[0;34m=\u001b[0m\u001b[0;32mTrue\u001b[0m\u001b[0;34m)\u001b[0m\u001b[0;34m\u001b[0m\u001b[0m\n\u001b[0m",
      "\u001b[0;32m~/.conda/envs/sentiment-analysis/lib/python3.6/site-packages/matplotlib/__init__.py\u001b[0m in \u001b[0;36minner\u001b[0;34m(ax, *args, **kwargs)\u001b[0m\n\u001b[1;32m   1715\u001b[0m                     warnings.warn(msg % (label_namer, func.__name__),\n\u001b[1;32m   1716\u001b[0m                                   RuntimeWarning, stacklevel=2)\n\u001b[0;32m-> 1717\u001b[0;31m             \u001b[0;32mreturn\u001b[0m \u001b[0mfunc\u001b[0m\u001b[0;34m(\u001b[0m\u001b[0max\u001b[0m\u001b[0;34m,\u001b[0m \u001b[0;34m*\u001b[0m\u001b[0margs\u001b[0m\u001b[0;34m,\u001b[0m \u001b[0;34m**\u001b[0m\u001b[0mkwargs\u001b[0m\u001b[0;34m)\u001b[0m\u001b[0;34m\u001b[0m\u001b[0m\n\u001b[0m\u001b[1;32m   1718\u001b[0m         \u001b[0mpre_doc\u001b[0m \u001b[0;34m=\u001b[0m \u001b[0minner\u001b[0m\u001b[0;34m.\u001b[0m\u001b[0m__doc__\u001b[0m\u001b[0;34m\u001b[0m\u001b[0m\n\u001b[1;32m   1719\u001b[0m         \u001b[0;32mif\u001b[0m \u001b[0mpre_doc\u001b[0m \u001b[0;32mis\u001b[0m \u001b[0;32mNone\u001b[0m\u001b[0;34m:\u001b[0m\u001b[0;34m\u001b[0m\u001b[0m\n",
      "\u001b[0;31mTypeError\u001b[0m: hist() missing 1 required positional argument: 'x'"
     ]
    },
    {
     "data": {
      "image/png": "[encoded data removed]",
      "text/plain": [
       "<matplotlib.figure.Figure at 0x7ffa16cd5128>"
      ]
     },
     "metadata": {},
     "output_type": "display_data"
    }
   ],
   "source": [
    "\n",
    "df1 = defDataFrame('NEGATIVE', negativeCounts)\n",
    "df2 = defDataFrame('POSITIVE', positiveCounts)\n",
    "\n",
    "DF = pd.concat([df1,df2],keys=['NEGATIVE','POSITIVE'])\n",
    "\n",
    "print(DF)\n",
    "\n",
    "DFGroup = DF.groupby('Key')\n",
    "\n",
    "DFGPlot = DFGroup.sum().unstack('Key').plot(kind='bar', figsize=(18, 16)).hist(stacked=True)"
   ]
  }
 ],
 "metadata": {
  "anaconda-cloud": {},
  "kernelspec": {
   "display_name": "Python 3",
   "language": "python",
   "name": "python3"
  },
  "language_info": {
   "codemirror_mode": {
    "name": "ipython",
    "version": 3
   },
   "file_extension": ".py",
   "mimetype": "text/x-python",
   "name": "python",
   "nbconvert_exporter": "python",
   "pygments_lexer": "ipython3",
   "version": "3.6.4"
  }
 },
 "nbformat": 4,
 "nbformat_minor": 1
}
